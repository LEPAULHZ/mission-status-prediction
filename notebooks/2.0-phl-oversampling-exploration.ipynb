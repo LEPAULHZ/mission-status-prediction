{
 "cells": [
  {
   "cell_type": "markdown",
   "id": "1e6fdaa0-8a6a-41d3-8ff3-041762291a6e",
   "metadata": {},
   "source": [
    "# Status Mission Prediction"
   ]
  },
  {
   "cell_type": "markdown",
   "id": "ede446fc-981f-4422-b50b-039b31c6dc1a",
   "metadata": {},
   "source": [
    "## 1. Problem Statement\n",
    " This project aim to understand how the Status Mission is affected by other variables such as Company, Country, Ownership and many other possible variables to be discover. "
   ]
  },
  {
   "cell_type": "markdown",
   "id": "f80e1917-3c2c-4d1b-b3d8-8c53224b0f52",
   "metadata": {},
   "source": [
    "## 2. Data Collection\n",
    "* Data Source: https://www.kaggle.com/datasets/davidroberts13/one-small-step-for-data\n",
    "* Data Shape: 4324 rows X 15 columns"
   ]
  },
  {
   "cell_type": "markdown",
   "id": "7e89ad9f-8c6a-4ae9-b220-44c9dca7965d",
   "metadata": {},
   "source": [
    "## 2.1 Import Data and Packages"
   ]
  },
  {
   "cell_type": "markdown",
   "id": "c628c153-ffca-4c8d-80b6-460e17f46f8e",
   "metadata": {},
   "source": [
    "### Import Pandas, Numpy, Matplolib"
   ]
  },
  {
   "cell_type": "code",
   "execution_count": 1,
   "id": "18a65140-3e4f-4ef3-8b93-c987f383f223",
   "metadata": {
    "tags": []
   },
   "outputs": [],
   "source": [
    "import numpy as np\n",
    "import pandas as pd\n",
    "import csv\n",
    "import os\n",
    "from utility import accuracy_score, decipher_confusion_matrix\n",
    "import matplotlib.pyplot as plt\n",
    "from sklearn.model_selection import train_test_split\n",
    "from sklearn.preprocessing import StandardScaler, OneHotEncoder, FunctionTransformer\n",
    "from sklearn.linear_model import LogisticRegression\n",
    "from sklearn.pipeline import Pipeline, make_pipeline\n",
    "from sklearn.compose import ColumnTransformer\n",
    "from sklearn.impute import SimpleImputer\n",
    "from sklearn.metrics import classification_report, confusion_matrix\n",
    "from sklearn import set_config\n",
    "from imblearn.over_sampling import RandomOverSampler\n",
    "from datetime import datetime"
   ]
  },
  {
   "cell_type": "markdown",
   "id": "9f987645-cdb0-45e4-ab69-98feaa5fc6df",
   "metadata": {},
   "source": [
    "### Import CSV Data as Panda DataFrame"
   ]
  },
  {
   "cell_type": "code",
   "execution_count": 2,
   "id": "cfbadb6d-1236-4f4d-b827-4958b46f285d",
   "metadata": {
    "tags": []
   },
   "outputs": [],
   "source": [
    "df = pd.read_csv('global_space_launches.csv')"
   ]
  },
  {
   "cell_type": "markdown",
   "id": "b59b8aa5-09e3-49ae-8e76-3d922abb0827",
   "metadata": {},
   "source": [
    "#### Display Data"
   ]
  },
  {
   "cell_type": "code",
   "execution_count": 3,
   "id": "0a19ce23-aa91-4b42-bdd1-f54bf2d317be",
   "metadata": {
    "tags": []
   },
   "outputs": [
    {
     "data": {
      "text/html": [
       "<div>\n",
       "<style scoped>\n",
       "    .dataframe tbody tr th:only-of-type {\n",
       "        vertical-align: middle;\n",
       "    }\n",
       "\n",
       "    .dataframe tbody tr th {\n",
       "        vertical-align: top;\n",
       "    }\n",
       "\n",
       "    .dataframe thead th {\n",
       "        text-align: right;\n",
       "    }\n",
       "</style>\n",
       "<table border=\"1\" class=\"dataframe\">\n",
       "  <thead>\n",
       "    <tr style=\"text-align: right;\">\n",
       "      <th></th>\n",
       "      <th>Company Name</th>\n",
       "      <th>Location</th>\n",
       "      <th>Detail</th>\n",
       "      <th>Status Rocket</th>\n",
       "      <th>Rocket</th>\n",
       "      <th>Status Mission</th>\n",
       "      <th>Country of Launch</th>\n",
       "      <th>Companys Country of Origin</th>\n",
       "      <th>Private or State Run</th>\n",
       "      <th>DateTime</th>\n",
       "      <th>Year</th>\n",
       "      <th>Month</th>\n",
       "      <th>Day</th>\n",
       "      <th>Date</th>\n",
       "      <th>Time</th>\n",
       "    </tr>\n",
       "  </thead>\n",
       "  <tbody>\n",
       "    <tr>\n",
       "      <th>0</th>\n",
       "      <td>SpaceX</td>\n",
       "      <td>LC-39A, Kennedy Space Center, Florida, USA</td>\n",
       "      <td>Falcon 9 Block 5 | Starlink V1 L9 &amp; BlackSky</td>\n",
       "      <td>StatusActive</td>\n",
       "      <td>50.0</td>\n",
       "      <td>Success</td>\n",
       "      <td>USA</td>\n",
       "      <td>USA</td>\n",
       "      <td>P</td>\n",
       "      <td>2020-08-07 05:12:00+00:00</td>\n",
       "      <td>2020</td>\n",
       "      <td>8</td>\n",
       "      <td>7</td>\n",
       "      <td>07/08/2020</td>\n",
       "      <td>05:12</td>\n",
       "    </tr>\n",
       "    <tr>\n",
       "      <th>1</th>\n",
       "      <td>CASIC</td>\n",
       "      <td>Site 9401 (SLS-2), Jiuquan Satellite Launch Ce...</td>\n",
       "      <td>Long March 2D | Gaofen-9 04 &amp; Q-SAT</td>\n",
       "      <td>StatusActive</td>\n",
       "      <td>29.75</td>\n",
       "      <td>Success</td>\n",
       "      <td>China</td>\n",
       "      <td>China</td>\n",
       "      <td>S</td>\n",
       "      <td>2020-08-06 04:01:00+00:00</td>\n",
       "      <td>2020</td>\n",
       "      <td>8</td>\n",
       "      <td>6</td>\n",
       "      <td>06/08/2020</td>\n",
       "      <td>04:01</td>\n",
       "    </tr>\n",
       "    <tr>\n",
       "      <th>2</th>\n",
       "      <td>SpaceX</td>\n",
       "      <td>Pad A, Boca Chica, Texas, USA</td>\n",
       "      <td>Starship Prototype | 150 Meter Hop</td>\n",
       "      <td>StatusActive</td>\n",
       "      <td>NaN</td>\n",
       "      <td>Success</td>\n",
       "      <td>USA</td>\n",
       "      <td>USA</td>\n",
       "      <td>P</td>\n",
       "      <td>2020-08-04 23:57:00+00:00</td>\n",
       "      <td>2020</td>\n",
       "      <td>8</td>\n",
       "      <td>4</td>\n",
       "      <td>04/08/2020</td>\n",
       "      <td>23:57</td>\n",
       "    </tr>\n",
       "    <tr>\n",
       "      <th>3</th>\n",
       "      <td>Roscosmos</td>\n",
       "      <td>Site 200/39, Baikonur Cosmodrome, Kazakhstan</td>\n",
       "      <td>Proton-M/Briz-M | Ekspress-80 &amp; Ekspress-103</td>\n",
       "      <td>StatusActive</td>\n",
       "      <td>65.0</td>\n",
       "      <td>Success</td>\n",
       "      <td>Kazakhstan</td>\n",
       "      <td>Russia</td>\n",
       "      <td>S</td>\n",
       "      <td>2020-07-30 21:25:00+00:00</td>\n",
       "      <td>2020</td>\n",
       "      <td>7</td>\n",
       "      <td>30</td>\n",
       "      <td>30/07/2020</td>\n",
       "      <td>21:25</td>\n",
       "    </tr>\n",
       "    <tr>\n",
       "      <th>4</th>\n",
       "      <td>ULA</td>\n",
       "      <td>SLC-41, Cape Canaveral AFS, Florida, USA</td>\n",
       "      <td>Atlas V 541 | Perseverance</td>\n",
       "      <td>StatusActive</td>\n",
       "      <td>145.0</td>\n",
       "      <td>Success</td>\n",
       "      <td>USA</td>\n",
       "      <td>USA</td>\n",
       "      <td>P</td>\n",
       "      <td>2020-07-30 11:50:00+00:00</td>\n",
       "      <td>2020</td>\n",
       "      <td>7</td>\n",
       "      <td>30</td>\n",
       "      <td>30/07/2020</td>\n",
       "      <td>11:50</td>\n",
       "    </tr>\n",
       "    <tr>\n",
       "      <th>...</th>\n",
       "      <td>...</td>\n",
       "      <td>...</td>\n",
       "      <td>...</td>\n",
       "      <td>...</td>\n",
       "      <td>...</td>\n",
       "      <td>...</td>\n",
       "      <td>...</td>\n",
       "      <td>...</td>\n",
       "      <td>...</td>\n",
       "      <td>...</td>\n",
       "      <td>...</td>\n",
       "      <td>...</td>\n",
       "      <td>...</td>\n",
       "      <td>...</td>\n",
       "      <td>...</td>\n",
       "    </tr>\n",
       "    <tr>\n",
       "      <th>4319</th>\n",
       "      <td>US Navy</td>\n",
       "      <td>LC-18A, Cape Canaveral AFS, Florida, USA</td>\n",
       "      <td>Vanguard | Vanguard TV3BU</td>\n",
       "      <td>StatusRetired</td>\n",
       "      <td>NaN</td>\n",
       "      <td>Failure</td>\n",
       "      <td>USA</td>\n",
       "      <td>USA</td>\n",
       "      <td>S</td>\n",
       "      <td>1958-02-05 07:33:00+00:00</td>\n",
       "      <td>1958</td>\n",
       "      <td>2</td>\n",
       "      <td>5</td>\n",
       "      <td>05/02/1958</td>\n",
       "      <td>07:33</td>\n",
       "    </tr>\n",
       "    <tr>\n",
       "      <th>4320</th>\n",
       "      <td>AMBA</td>\n",
       "      <td>LC-26A, Cape Canaveral AFS, Florida, USA</td>\n",
       "      <td>Juno I | Explorer 1</td>\n",
       "      <td>StatusRetired</td>\n",
       "      <td>NaN</td>\n",
       "      <td>Success</td>\n",
       "      <td>USA</td>\n",
       "      <td>USA</td>\n",
       "      <td>S</td>\n",
       "      <td>1958-02-01 03:48:00+00:00</td>\n",
       "      <td>1958</td>\n",
       "      <td>2</td>\n",
       "      <td>1</td>\n",
       "      <td>01/02/1958</td>\n",
       "      <td>03:48</td>\n",
       "    </tr>\n",
       "    <tr>\n",
       "      <th>4321</th>\n",
       "      <td>US Navy</td>\n",
       "      <td>LC-18A, Cape Canaveral AFS, Florida, USA</td>\n",
       "      <td>Vanguard | Vanguard TV3</td>\n",
       "      <td>StatusRetired</td>\n",
       "      <td>NaN</td>\n",
       "      <td>Failure</td>\n",
       "      <td>USA</td>\n",
       "      <td>USA</td>\n",
       "      <td>S</td>\n",
       "      <td>1957-12-06 16:44:00+00:00</td>\n",
       "      <td>1957</td>\n",
       "      <td>12</td>\n",
       "      <td>6</td>\n",
       "      <td>06/12/1957</td>\n",
       "      <td>16:44</td>\n",
       "    </tr>\n",
       "    <tr>\n",
       "      <th>4322</th>\n",
       "      <td>RVSN USSR</td>\n",
       "      <td>Site 1/5, Baikonur Cosmodrome, Kazakhstan</td>\n",
       "      <td>Sputnik 8K71PS | Sputnik-2</td>\n",
       "      <td>StatusRetired</td>\n",
       "      <td>NaN</td>\n",
       "      <td>Success</td>\n",
       "      <td>Kazakhstan</td>\n",
       "      <td>Russia</td>\n",
       "      <td>S</td>\n",
       "      <td>1957-11-03 02:30:00+00:00</td>\n",
       "      <td>1957</td>\n",
       "      <td>11</td>\n",
       "      <td>3</td>\n",
       "      <td>03/11/1957</td>\n",
       "      <td>02:30</td>\n",
       "    </tr>\n",
       "    <tr>\n",
       "      <th>4323</th>\n",
       "      <td>RVSN USSR</td>\n",
       "      <td>Site 1/5, Baikonur Cosmodrome, Kazakhstan</td>\n",
       "      <td>Sputnik 8K71PS | Sputnik-1</td>\n",
       "      <td>StatusRetired</td>\n",
       "      <td>NaN</td>\n",
       "      <td>Success</td>\n",
       "      <td>Kazakhstan</td>\n",
       "      <td>Russia</td>\n",
       "      <td>S</td>\n",
       "      <td>1957-10-04 19:28:00+00:00</td>\n",
       "      <td>1957</td>\n",
       "      <td>10</td>\n",
       "      <td>4</td>\n",
       "      <td>04/10/1957</td>\n",
       "      <td>19:28</td>\n",
       "    </tr>\n",
       "  </tbody>\n",
       "</table>\n",
       "<p>4324 rows × 15 columns</p>\n",
       "</div>"
      ],
      "text/plain": [
       "     Company Name                                           Location  \\\n",
       "0          SpaceX         LC-39A, Kennedy Space Center, Florida, USA   \n",
       "1           CASIC  Site 9401 (SLS-2), Jiuquan Satellite Launch Ce...   \n",
       "2          SpaceX                      Pad A, Boca Chica, Texas, USA   \n",
       "3       Roscosmos       Site 200/39, Baikonur Cosmodrome, Kazakhstan   \n",
       "4             ULA           SLC-41, Cape Canaveral AFS, Florida, USA   \n",
       "...           ...                                                ...   \n",
       "4319      US Navy           LC-18A, Cape Canaveral AFS, Florida, USA   \n",
       "4320         AMBA           LC-26A, Cape Canaveral AFS, Florida, USA   \n",
       "4321      US Navy           LC-18A, Cape Canaveral AFS, Florida, USA   \n",
       "4322    RVSN USSR          Site 1/5, Baikonur Cosmodrome, Kazakhstan   \n",
       "4323    RVSN USSR          Site 1/5, Baikonur Cosmodrome, Kazakhstan   \n",
       "\n",
       "                                            Detail  Status Rocket  Rocket  \\\n",
       "0     Falcon 9 Block 5 | Starlink V1 L9 & BlackSky   StatusActive   50.0    \n",
       "1              Long March 2D | Gaofen-9 04 & Q-SAT   StatusActive  29.75    \n",
       "2               Starship Prototype | 150 Meter Hop   StatusActive     NaN   \n",
       "3     Proton-M/Briz-M | Ekspress-80 & Ekspress-103   StatusActive   65.0    \n",
       "4                       Atlas V 541 | Perseverance   StatusActive  145.0    \n",
       "...                                            ...            ...     ...   \n",
       "4319                     Vanguard | Vanguard TV3BU  StatusRetired     NaN   \n",
       "4320                           Juno I | Explorer 1  StatusRetired     NaN   \n",
       "4321                       Vanguard | Vanguard TV3  StatusRetired     NaN   \n",
       "4322                    Sputnik 8K71PS | Sputnik-2  StatusRetired     NaN   \n",
       "4323                    Sputnik 8K71PS | Sputnik-1  StatusRetired     NaN   \n",
       "\n",
       "     Status Mission Country of Launch Companys Country of Origin  \\\n",
       "0           Success               USA                        USA   \n",
       "1           Success             China                      China   \n",
       "2           Success               USA                        USA   \n",
       "3           Success        Kazakhstan                     Russia   \n",
       "4           Success               USA                        USA   \n",
       "...             ...               ...                        ...   \n",
       "4319        Failure               USA                        USA   \n",
       "4320        Success               USA                        USA   \n",
       "4321        Failure               USA                        USA   \n",
       "4322        Success        Kazakhstan                     Russia   \n",
       "4323        Success        Kazakhstan                     Russia   \n",
       "\n",
       "     Private or State Run                   DateTime  Year  Month  Day  \\\n",
       "0                       P  2020-08-07 05:12:00+00:00  2020      8    7   \n",
       "1                       S  2020-08-06 04:01:00+00:00  2020      8    6   \n",
       "2                       P  2020-08-04 23:57:00+00:00  2020      8    4   \n",
       "3                       S  2020-07-30 21:25:00+00:00  2020      7   30   \n",
       "4                       P  2020-07-30 11:50:00+00:00  2020      7   30   \n",
       "...                   ...                        ...   ...    ...  ...   \n",
       "4319                    S  1958-02-05 07:33:00+00:00  1958      2    5   \n",
       "4320                    S  1958-02-01 03:48:00+00:00  1958      2    1   \n",
       "4321                    S  1957-12-06 16:44:00+00:00  1957     12    6   \n",
       "4322                    S  1957-11-03 02:30:00+00:00  1957     11    3   \n",
       "4323                    S  1957-10-04 19:28:00+00:00  1957     10    4   \n",
       "\n",
       "            Date   Time  \n",
       "0     07/08/2020  05:12  \n",
       "1     06/08/2020  04:01  \n",
       "2     04/08/2020  23:57  \n",
       "3     30/07/2020  21:25  \n",
       "4     30/07/2020  11:50  \n",
       "...          ...    ...  \n",
       "4319  05/02/1958  07:33  \n",
       "4320  01/02/1958  03:48  \n",
       "4321  06/12/1957  16:44  \n",
       "4322  03/11/1957  02:30  \n",
       "4323  04/10/1957  19:28  \n",
       "\n",
       "[4324 rows x 15 columns]"
      ]
     },
     "execution_count": 3,
     "metadata": {},
     "output_type": "execute_result"
    }
   ],
   "source": [
    "df"
   ]
  },
  {
   "cell_type": "markdown",
   "id": "3a067968-120e-4fbb-b355-3c9d70bfe4dc",
   "metadata": {},
   "source": [
    "## 3. Data Checks to Perform\n",
    "* Columns Cleanliness & Readability\n",
    "* Check Missing Values\n",
    "* Check Duplicates\n",
    "* Check Data Type\n",
    "* Check Unique Values\n",
    "* Check Statistics\n",
    "* Check Categories"
   ]
  },
  {
   "cell_type": "markdown",
   "id": "d229fd4b-e818-4b1a-b0e5-85d4e3ff2228",
   "metadata": {},
   "source": [
    "## 3.1 Columns Cleanliness & Readability"
   ]
  },
  {
   "cell_type": "code",
   "execution_count": 4,
   "id": "5eb61e40-4dda-4b23-87ff-1e0ec7758c9a",
   "metadata": {
    "tags": []
   },
   "outputs": [],
   "source": [
    "# Renaming long names\n",
    "rename_dict = {'Company Name': 'Company',\n",
    "               ' Rocket': 'Rocket',\n",
    "               'Country of Launch': 'Launch Country', \n",
    "               'Companys Country of Origin': 'Company Origin', \n",
    "               'Private or State Run': 'Ownership'}\n",
    "df.rename(columns=rename_dict, inplace=True)\n",
    "\n",
    "# Drop duplicate column\n",
    "df.drop(columns=['DateTime', 'Date'], inplace=True)"
   ]
  },
  {
   "cell_type": "markdown",
   "id": "5b4ac767-7235-41f0-a111-9e9035cc72be",
   "metadata": {},
   "source": [
    "## 3.2 Check Missing Values"
   ]
  },
  {
   "cell_type": "code",
   "execution_count": 5,
   "id": "412bd6a9-c664-4746-b4c5-9690369d57e0",
   "metadata": {
    "tags": []
   },
   "outputs": [
    {
     "data": {
      "text/plain": [
       "Company              0\n",
       "Location             0\n",
       "Detail               0\n",
       "Status Rocket        0\n",
       "Rocket            3360\n",
       "Status Mission       0\n",
       "Launch Country       0\n",
       "Company Origin       0\n",
       "Ownership            0\n",
       "Year                 0\n",
       "Month                0\n",
       "Day                  0\n",
       "Time                 0\n",
       "dtype: int64"
      ]
     },
     "execution_count": 5,
     "metadata": {},
     "output_type": "execute_result"
    }
   ],
   "source": [
    "df.isna().sum()"
   ]
  },
  {
   "cell_type": "markdown",
   "id": "bc4ce988-3a6f-425b-b722-8c2ecab47918",
   "metadata": {
    "tags": []
   },
   "source": [
    "There are missing values for Rocket column"
   ]
  },
  {
   "cell_type": "markdown",
   "id": "ce41c42c-443a-4c54-bce9-f7db86601175",
   "metadata": {},
   "source": [
    "### Handling Missing Values"
   ]
  },
  {
   "cell_type": "code",
   "execution_count": 6,
   "id": "445dccfb-7109-4a33-abe9-b4dad0057e47",
   "metadata": {
    "tags": []
   },
   "outputs": [],
   "source": [
    "# Adding NA column {isna:1}\n",
    "df['Rocket_isna'] = np.where(df['Rocket'].isna(), 1, 0)\n",
    "\n",
    "# Convert everything to strings and delete commas\n",
    "df['Rocket'] = df['Rocket'].astype(str).str.replace(',', '').astype(float)"
   ]
  },
  {
   "cell_type": "markdown",
   "id": "9a9dcb41-788a-48f8-aa7f-cc9867cf0d98",
   "metadata": {},
   "source": [
    "## 3.3 Check Duplicates"
   ]
  },
  {
   "cell_type": "code",
   "execution_count": 7,
   "id": "71afb7e2-7333-42f4-b376-cf7e130e81f7",
   "metadata": {
    "tags": []
   },
   "outputs": [
    {
     "data": {
      "text/plain": [
       "1"
      ]
     },
     "execution_count": 7,
     "metadata": {},
     "output_type": "execute_result"
    }
   ],
   "source": [
    "df.duplicated().sum()"
   ]
  },
  {
   "cell_type": "code",
   "execution_count": 8,
   "id": "a4e5d533-01d8-43e7-9c88-3513551fa976",
   "metadata": {
    "tags": []
   },
   "outputs": [
    {
     "data": {
      "text/plain": [
       "0"
      ]
     },
     "execution_count": 8,
     "metadata": {},
     "output_type": "execute_result"
    }
   ],
   "source": [
    "# Drop dupplicates\n",
    "df = df.drop_duplicates()\n",
    "df.duplicated().sum()"
   ]
  },
  {
   "cell_type": "markdown",
   "id": "90900106-f1c0-46a5-96ef-6492f609f718",
   "metadata": {},
   "source": [
    "## 3.4 Check Data Type"
   ]
  },
  {
   "cell_type": "code",
   "execution_count": 9,
   "id": "e2c246e9-cad6-4e83-8813-c6bdc3a7f690",
   "metadata": {
    "tags": []
   },
   "outputs": [
    {
     "name": "stdout",
     "output_type": "stream",
     "text": [
      "<class 'pandas.core.frame.DataFrame'>\n",
      "Index: 4323 entries, 0 to 4323\n",
      "Data columns (total 14 columns):\n",
      " #   Column          Non-Null Count  Dtype  \n",
      "---  ------          --------------  -----  \n",
      " 0   Company         4323 non-null   object \n",
      " 1   Location        4323 non-null   object \n",
      " 2   Detail          4323 non-null   object \n",
      " 3   Status Rocket   4323 non-null   object \n",
      " 4   Rocket          963 non-null    float64\n",
      " 5   Status Mission  4323 non-null   object \n",
      " 6   Launch Country  4323 non-null   object \n",
      " 7   Company Origin  4323 non-null   object \n",
      " 8   Ownership       4323 non-null   object \n",
      " 9   Year            4323 non-null   int64  \n",
      " 10  Month           4323 non-null   int64  \n",
      " 11  Day             4323 non-null   int64  \n",
      " 12  Time            4323 non-null   object \n",
      " 13  Rocket_isna     4323 non-null   int32  \n",
      "dtypes: float64(1), int32(1), int64(3), object(9)\n",
      "memory usage: 489.7+ KB\n"
     ]
    }
   ],
   "source": [
    "df.info()"
   ]
  },
  {
   "cell_type": "markdown",
   "id": "74bc0446-b4c6-4a72-948b-5e64d2e5e8f0",
   "metadata": {},
   "source": [
    "## 3.5 Check Unique Values"
   ]
  },
  {
   "cell_type": "code",
   "execution_count": 10,
   "id": "9e5cd696-65be-4290-84b0-0e7608ad367d",
   "metadata": {
    "tags": []
   },
   "outputs": [
    {
     "data": {
      "text/plain": [
       "Company             55\n",
       "Location           137\n",
       "Detail            4278\n",
       "Status Rocket        2\n",
       "Rocket              56\n",
       "Status Mission       4\n",
       "Launch Country      16\n",
       "Company Origin      17\n",
       "Ownership            2\n",
       "Year                64\n",
       "Month               12\n",
       "Day                 31\n",
       "Time              1273\n",
       "Rocket_isna          2\n",
       "dtype: int64"
      ]
     },
     "execution_count": 10,
     "metadata": {},
     "output_type": "execute_result"
    }
   ],
   "source": [
    "# Count the number of unique values in each column \n",
    "df.nunique()"
   ]
  },
  {
   "cell_type": "markdown",
   "id": "2fb815cd-6bf7-4d07-8eb5-c7aea2cf363b",
   "metadata": {},
   "source": [
    "## 3.6 Check Statistics"
   ]
  },
  {
   "cell_type": "code",
   "execution_count": 11,
   "id": "089c9136-fe14-4076-87a7-862a9a37b910",
   "metadata": {
    "tags": []
   },
   "outputs": [
    {
     "data": {
      "text/html": [
       "<div>\n",
       "<style scoped>\n",
       "    .dataframe tbody tr th:only-of-type {\n",
       "        vertical-align: middle;\n",
       "    }\n",
       "\n",
       "    .dataframe tbody tr th {\n",
       "        vertical-align: top;\n",
       "    }\n",
       "\n",
       "    .dataframe thead th {\n",
       "        text-align: right;\n",
       "    }\n",
       "</style>\n",
       "<table border=\"1\" class=\"dataframe\">\n",
       "  <thead>\n",
       "    <tr style=\"text-align: right;\">\n",
       "      <th></th>\n",
       "      <th>Company</th>\n",
       "      <th>Location</th>\n",
       "      <th>Detail</th>\n",
       "      <th>Status Rocket</th>\n",
       "      <th>Rocket</th>\n",
       "      <th>Status Mission</th>\n",
       "      <th>Launch Country</th>\n",
       "      <th>Company Origin</th>\n",
       "      <th>Ownership</th>\n",
       "      <th>Year</th>\n",
       "      <th>Month</th>\n",
       "      <th>Day</th>\n",
       "      <th>Time</th>\n",
       "      <th>Rocket_isna</th>\n",
       "    </tr>\n",
       "  </thead>\n",
       "  <tbody>\n",
       "    <tr>\n",
       "      <th>count</th>\n",
       "      <td>4323</td>\n",
       "      <td>4323</td>\n",
       "      <td>4323</td>\n",
       "      <td>4323</td>\n",
       "      <td>963.000000</td>\n",
       "      <td>4323</td>\n",
       "      <td>4323</td>\n",
       "      <td>4323</td>\n",
       "      <td>4323</td>\n",
       "      <td>4323.000000</td>\n",
       "      <td>4323.000000</td>\n",
       "      <td>4323.000000</td>\n",
       "      <td>4323</td>\n",
       "      <td>4323.000000</td>\n",
       "    </tr>\n",
       "    <tr>\n",
       "      <th>unique</th>\n",
       "      <td>55</td>\n",
       "      <td>137</td>\n",
       "      <td>4278</td>\n",
       "      <td>2</td>\n",
       "      <td>NaN</td>\n",
       "      <td>4</td>\n",
       "      <td>16</td>\n",
       "      <td>17</td>\n",
       "      <td>2</td>\n",
       "      <td>NaN</td>\n",
       "      <td>NaN</td>\n",
       "      <td>NaN</td>\n",
       "      <td>1273</td>\n",
       "      <td>NaN</td>\n",
       "    </tr>\n",
       "    <tr>\n",
       "      <th>top</th>\n",
       "      <td>RVSN USSR</td>\n",
       "      <td>Site 31/6, Baikonur Cosmodrome, Kazakhstan</td>\n",
       "      <td>Cosmos-3MRB (65MRB) | BOR-5 Shuttle</td>\n",
       "      <td>StatusRetired</td>\n",
       "      <td>NaN</td>\n",
       "      <td>Success</td>\n",
       "      <td>Russia</td>\n",
       "      <td>Russia</td>\n",
       "      <td>S</td>\n",
       "      <td>NaN</td>\n",
       "      <td>NaN</td>\n",
       "      <td>NaN</td>\n",
       "      <td>00:00</td>\n",
       "      <td>NaN</td>\n",
       "    </tr>\n",
       "    <tr>\n",
       "      <th>freq</th>\n",
       "      <td>1777</td>\n",
       "      <td>235</td>\n",
       "      <td>6</td>\n",
       "      <td>3534</td>\n",
       "      <td>NaN</td>\n",
       "      <td>3878</td>\n",
       "      <td>1398</td>\n",
       "      <td>2064</td>\n",
       "      <td>2930</td>\n",
       "      <td>NaN</td>\n",
       "      <td>NaN</td>\n",
       "      <td>NaN</td>\n",
       "      <td>135</td>\n",
       "      <td>NaN</td>\n",
       "    </tr>\n",
       "    <tr>\n",
       "      <th>mean</th>\n",
       "      <td>NaN</td>\n",
       "      <td>NaN</td>\n",
       "      <td>NaN</td>\n",
       "      <td>NaN</td>\n",
       "      <td>153.921007</td>\n",
       "      <td>NaN</td>\n",
       "      <td>NaN</td>\n",
       "      <td>NaN</td>\n",
       "      <td>NaN</td>\n",
       "      <td>1987.381911</td>\n",
       "      <td>6.753181</td>\n",
       "      <td>16.441591</td>\n",
       "      <td>NaN</td>\n",
       "      <td>0.777238</td>\n",
       "    </tr>\n",
       "    <tr>\n",
       "      <th>std</th>\n",
       "      <td>NaN</td>\n",
       "      <td>NaN</td>\n",
       "      <td>NaN</td>\n",
       "      <td>NaN</td>\n",
       "      <td>288.572876</td>\n",
       "      <td>NaN</td>\n",
       "      <td>NaN</td>\n",
       "      <td>NaN</td>\n",
       "      <td>NaN</td>\n",
       "      <td>18.071932</td>\n",
       "      <td>3.416812</td>\n",
       "      <td>8.635934</td>\n",
       "      <td>NaN</td>\n",
       "      <td>0.416148</td>\n",
       "    </tr>\n",
       "    <tr>\n",
       "      <th>min</th>\n",
       "      <td>NaN</td>\n",
       "      <td>NaN</td>\n",
       "      <td>NaN</td>\n",
       "      <td>NaN</td>\n",
       "      <td>5.300000</td>\n",
       "      <td>NaN</td>\n",
       "      <td>NaN</td>\n",
       "      <td>NaN</td>\n",
       "      <td>NaN</td>\n",
       "      <td>1957.000000</td>\n",
       "      <td>1.000000</td>\n",
       "      <td>1.000000</td>\n",
       "      <td>NaN</td>\n",
       "      <td>0.000000</td>\n",
       "    </tr>\n",
       "    <tr>\n",
       "      <th>25%</th>\n",
       "      <td>NaN</td>\n",
       "      <td>NaN</td>\n",
       "      <td>NaN</td>\n",
       "      <td>NaN</td>\n",
       "      <td>40.000000</td>\n",
       "      <td>NaN</td>\n",
       "      <td>NaN</td>\n",
       "      <td>NaN</td>\n",
       "      <td>NaN</td>\n",
       "      <td>1972.000000</td>\n",
       "      <td>4.000000</td>\n",
       "      <td>9.000000</td>\n",
       "      <td>NaN</td>\n",
       "      <td>1.000000</td>\n",
       "    </tr>\n",
       "    <tr>\n",
       "      <th>50%</th>\n",
       "      <td>NaN</td>\n",
       "      <td>NaN</td>\n",
       "      <td>NaN</td>\n",
       "      <td>NaN</td>\n",
       "      <td>62.000000</td>\n",
       "      <td>NaN</td>\n",
       "      <td>NaN</td>\n",
       "      <td>NaN</td>\n",
       "      <td>NaN</td>\n",
       "      <td>1984.000000</td>\n",
       "      <td>7.000000</td>\n",
       "      <td>17.000000</td>\n",
       "      <td>NaN</td>\n",
       "      <td>1.000000</td>\n",
       "    </tr>\n",
       "    <tr>\n",
       "      <th>75%</th>\n",
       "      <td>NaN</td>\n",
       "      <td>NaN</td>\n",
       "      <td>NaN</td>\n",
       "      <td>NaN</td>\n",
       "      <td>164.000000</td>\n",
       "      <td>NaN</td>\n",
       "      <td>NaN</td>\n",
       "      <td>NaN</td>\n",
       "      <td>NaN</td>\n",
       "      <td>2002.000000</td>\n",
       "      <td>10.000000</td>\n",
       "      <td>24.000000</td>\n",
       "      <td>NaN</td>\n",
       "      <td>1.000000</td>\n",
       "    </tr>\n",
       "    <tr>\n",
       "      <th>max</th>\n",
       "      <td>NaN</td>\n",
       "      <td>NaN</td>\n",
       "      <td>NaN</td>\n",
       "      <td>NaN</td>\n",
       "      <td>5000.000000</td>\n",
       "      <td>NaN</td>\n",
       "      <td>NaN</td>\n",
       "      <td>NaN</td>\n",
       "      <td>NaN</td>\n",
       "      <td>2020.000000</td>\n",
       "      <td>12.000000</td>\n",
       "      <td>31.000000</td>\n",
       "      <td>NaN</td>\n",
       "      <td>1.000000</td>\n",
       "    </tr>\n",
       "  </tbody>\n",
       "</table>\n",
       "</div>"
      ],
      "text/plain": [
       "          Company                                    Location  \\\n",
       "count        4323                                        4323   \n",
       "unique         55                                         137   \n",
       "top     RVSN USSR  Site 31/6, Baikonur Cosmodrome, Kazakhstan   \n",
       "freq         1777                                         235   \n",
       "mean          NaN                                         NaN   \n",
       "std           NaN                                         NaN   \n",
       "min           NaN                                         NaN   \n",
       "25%           NaN                                         NaN   \n",
       "50%           NaN                                         NaN   \n",
       "75%           NaN                                         NaN   \n",
       "max           NaN                                         NaN   \n",
       "\n",
       "                                     Detail  Status Rocket       Rocket  \\\n",
       "count                                  4323           4323   963.000000   \n",
       "unique                                 4278              2          NaN   \n",
       "top     Cosmos-3MRB (65MRB) | BOR-5 Shuttle  StatusRetired          NaN   \n",
       "freq                                      6           3534          NaN   \n",
       "mean                                    NaN            NaN   153.921007   \n",
       "std                                     NaN            NaN   288.572876   \n",
       "min                                     NaN            NaN     5.300000   \n",
       "25%                                     NaN            NaN    40.000000   \n",
       "50%                                     NaN            NaN    62.000000   \n",
       "75%                                     NaN            NaN   164.000000   \n",
       "max                                     NaN            NaN  5000.000000   \n",
       "\n",
       "       Status Mission Launch Country Company Origin Ownership         Year  \\\n",
       "count            4323           4323           4323      4323  4323.000000   \n",
       "unique              4             16             17         2          NaN   \n",
       "top           Success         Russia         Russia         S          NaN   \n",
       "freq             3878           1398           2064      2930          NaN   \n",
       "mean              NaN            NaN            NaN       NaN  1987.381911   \n",
       "std               NaN            NaN            NaN       NaN    18.071932   \n",
       "min               NaN            NaN            NaN       NaN  1957.000000   \n",
       "25%               NaN            NaN            NaN       NaN  1972.000000   \n",
       "50%               NaN            NaN            NaN       NaN  1984.000000   \n",
       "75%               NaN            NaN            NaN       NaN  2002.000000   \n",
       "max               NaN            NaN            NaN       NaN  2020.000000   \n",
       "\n",
       "              Month          Day   Time  Rocket_isna  \n",
       "count   4323.000000  4323.000000   4323  4323.000000  \n",
       "unique          NaN          NaN   1273          NaN  \n",
       "top             NaN          NaN  00:00          NaN  \n",
       "freq            NaN          NaN    135          NaN  \n",
       "mean       6.753181    16.441591    NaN     0.777238  \n",
       "std        3.416812     8.635934    NaN     0.416148  \n",
       "min        1.000000     1.000000    NaN     0.000000  \n",
       "25%        4.000000     9.000000    NaN     1.000000  \n",
       "50%        7.000000    17.000000    NaN     1.000000  \n",
       "75%       10.000000    24.000000    NaN     1.000000  \n",
       "max       12.000000    31.000000    NaN     1.000000  "
      ]
     },
     "execution_count": 11,
     "metadata": {},
     "output_type": "execute_result"
    }
   ],
   "source": [
    "df.describe(include='all')"
   ]
  },
  {
   "cell_type": "markdown",
   "id": "f642d9c1-610f-4b0e-bfcc-b2269937d03c",
   "metadata": {},
   "source": [
    "## 3.7 Check Categories"
   ]
  },
  {
   "cell_type": "code",
   "execution_count": 12,
   "id": "3294d9c2-8b7b-4014-911a-3623d79f870e",
   "metadata": {
    "tags": []
   },
   "outputs": [
    {
     "name": "stdout",
     "output_type": "stream",
     "text": [
      "There are possible 5 numerical features: ['Rocket', 'Year', 'Month', 'Day', 'Rocket_isna']\n",
      "\n",
      "There are possible 9 categorical features: ['Company', 'Location', 'Detail', 'Status Rocket', 'Status Mission', 'Launch Country', 'Company Origin', 'Ownership', 'Time']\n"
     ]
    }
   ],
   "source": [
    "# Define numerical & categorical columns\n",
    "initial_numerical_features = [feature for feature in df.columns if df[feature].dtype != 'object']\n",
    "initial_categorical_features = [feature for feature in df.columns if df[feature].dtype == 'object']\n",
    "\n",
    "print('There are possible {} numerical features: {}\\n'.format(len(initial_numerical_features), initial_numerical_features))\n",
    "print('There are possible {} categorical features: {}'.format(len(initial_categorical_features), initial_categorical_features))"
   ]
  },
  {
   "cell_type": "markdown",
   "id": "c0a82f7c-e55c-4d64-b1fd-d3806e2253cc",
   "metadata": {},
   "source": [
    "## 4. Handling Various Features"
   ]
  },
  {
   "cell_type": "code",
   "execution_count": 13,
   "id": "24b74d3c-6ce7-4980-b514-7e6e7735b135",
   "metadata": {},
   "outputs": [],
   "source": [
    "# Handling Rocket Feature\n",
    "imp_strat = 0\n",
    "imputer = SimpleImputer(missing_values=np.nan, fill_value=imp_strat)"
   ]
  },
  {
   "cell_type": "code",
   "execution_count": null,
   "id": "2bfbf65e-a4a8-4627-bc8c-acaa48457dab",
   "metadata": {},
   "outputs": [],
   "source": []
  },
  {
   "cell_type": "code",
   "execution_count": 14,
   "id": "ca928460-8a5d-443d-961b-6c646c866d7d",
   "metadata": {},
   "outputs": [],
   "source": [
    "# Handling Status Mission Feature\n",
    "df.loc[:, 'Status Mission'] = (df['Status Mission'] == 'Success').astype(int)\n",
    "df['Status Mission'].unique()"
   ]
  },
  {
   "cell_type": "markdown",
   "id": "f4bc27ac-0cb8-4f8a-a463-27fa7a4a4359",
   "metadata": {},
   "source": [
    "## 5. Preprocessor"
   ]
  },
  {
   "cell_type": "code",
   "execution_count": 17,
   "id": "20667bfd-cc80-4f47-b669-dc1d8c8e959e",
   "metadata": {},
   "outputs": [],
   "source": [
    "X_init=df[['Rocket']]"
   ]
  },
  {
   "cell_type": "code",
   "execution_count": 18,
   "id": "3fdf9651-2d27-43c3-ac8b-417cc0ce1baf",
   "metadata": {
    "tags": []
   },
   "outputs": [],
   "source": [
    "X_init = imputer.fit_transform(X_init)"
   ]
  },
  {
   "cell_type": "code",
   "execution_count": 19,
   "id": "95fff4a1-83a0-4ba7-9eaf-78fdf8115076",
   "metadata": {},
   "outputs": [],
   "source": [
    "y_init=df['Status Mission'].astype(int)"
   ]
  },
  {
   "cell_type": "code",
   "execution_count": 20,
   "id": "a7c7aeeb-6585-45fd-92b3-17661c69c5ff",
   "metadata": {
    "tags": []
   },
   "outputs": [
    {
     "data": {
      "text/plain": [
       "<Axes: ylabel='count'>"
      ]
     },
     "execution_count": 20,
     "metadata": {},
     "output_type": "execute_result"
    },
    {
     "data": {
      "image/png": "[encoded data removed]",
      "text/plain": [
       "<Figure size 640x480 with 1 Axes>"
      ]
     },
     "metadata": {},
     "output_type": "display_data"
    }
   ],
   "source": [
    "y_init.value_counts().plot.pie(autopct='%.2f')"
   ]
  },
  {
   "cell_type": "code",
   "execution_count": 21,
   "id": "59ba8a0d-dafc-4246-bd79-bb31dfe8f88c",
   "metadata": {
    "tags": []
   },
   "outputs": [],
   "source": [
    "ros = RandomOverSampler(sampling_strategy='minority', random_state=42)"
   ]
  },
  {
   "cell_type": "code",
   "execution_count": 22,
   "id": "f4403390-5f00-46ef-ab03-83b4d87b9599",
   "metadata": {
    "tags": []
   },
   "outputs": [
    {
     "name": "stdout",
     "output_type": "stream",
     "text": [
      "7756 7756\n"
     ]
    }
   ],
   "source": [
    "X_resampled, y_resampled = ros.fit_resample(X_init,y_init)\n",
    "print(len(X_resampled), len(y_resampled))"
   ]
  },
  {
   "cell_type": "code",
   "execution_count": 23,
   "id": "04d84dbd-9dd7-4b27-b1bc-74a5cadb6370",
   "metadata": {
    "tags": []
   },
   "outputs": [
    {
     "data": {
      "text/plain": [
       "<Axes: ylabel='count'>"
      ]
     },
     "execution_count": 23,
     "metadata": {},
     "output_type": "execute_result"
    },
    {
     "data": {
      "image/png": "[encoded data removed]",
      "text/plain": [
       "<Figure size 640x480 with 1 Axes>"
      ]
     },
     "metadata": {},
     "output_type": "display_data"
    }
   ],
   "source": [
    "y_resampled.value_counts().plot.pie(autopct='%.2f')"
   ]
  },
  {
   "cell_type": "markdown",
   "id": "c0592090-82e6-4d9f-a4d4-5e844a322ef0",
   "metadata": {
    "tags": []
   },
   "source": [
    "### Balancing the Data manually"
   ]
  },
  {
   "cell_type": "code",
   "execution_count": 24,
   "id": "e829c17c-116c-407a-8db0-5c80b7c1dbac",
   "metadata": {
    "tags": []
   },
   "outputs": [],
   "source": [
    "# Separate minority & majority class\n",
    "minority_data = df[~df['Status Mission'].astype(bool)]\n",
    "majority_data = df[df['Status Mission'].astype(bool)]"
   ]
  },
  {
   "cell_type": "code",
   "execution_count": 25,
   "id": "a70b421d-b76c-46e5-89fc-452ca35f59ba",
   "metadata": {
    "tags": []
   },
   "outputs": [],
   "source": [
    "# get the ratio\n",
    "over_sample_ratio = len(majority_data)/len(minority_data)"
   ]
  },
  {
   "cell_type": "code",
   "execution_count": 26,
   "id": "b1c9b30b-46de-4f4b-a701-792eeb950e7b",
   "metadata": {
    "tags": []
   },
   "outputs": [],
   "source": [
    "# round it up\n",
    "os_ceil = int(np.ceil(over_sample_ratio))"
   ]
  },
  {
   "cell_type": "code",
   "execution_count": 27,
   "id": "ae3a563d-b443-4493-b26c-a7055e2668bd",
   "metadata": {
    "tags": []
   },
   "outputs": [],
   "source": [
    "# new oversampled data\n",
    "os_minority_data = pd.concat([minority_data] * os_ceil)"
   ]
  },
  {
   "cell_type": "code",
   "execution_count": 28,
   "id": "b6afc72b-fed5-4a88-8b88-0e27e1b3b926",
   "metadata": {
    "tags": []
   },
   "outputs": [],
   "source": [
    "# concat the new data with old data\n",
    "df_resampled = pd.concat([majority_data, os_minority_data])"
   ]
  },
  {
   "cell_type": "code",
   "execution_count": 29,
   "id": "a7350c4f-e887-431a-989b-6416a84db218",
   "metadata": {
    "tags": []
   },
   "outputs": [],
   "source": [
    "X_resampled2 = df_resampled[['Year']]"
   ]
  },
  {
   "cell_type": "code",
   "execution_count": 30,
   "id": "41eebe11-4fc9-4408-bc19-5e618fb13b3e",
   "metadata": {
    "tags": []
   },
   "outputs": [],
   "source": [
    "y_resampled2 = df_resampled['Status Mission'].astype(int)"
   ]
  },
  {
   "cell_type": "code",
   "execution_count": 31,
   "id": "4d7a5e1d-c07a-4b99-9276-30941109b95b",
   "metadata": {
    "tags": []
   },
   "outputs": [
    {
     "data": {
      "text/plain": [
       "Status Mission\n",
       "0    4005\n",
       "1    3878\n",
       "Name: count, dtype: int64"
      ]
     },
     "execution_count": 31,
     "metadata": {},
     "output_type": "execute_result"
    }
   ],
   "source": [
    "y_resampled2.value_counts()"
   ]
  },
  {
   "cell_type": "code",
   "execution_count": 32,
   "id": "83d0f476-4e60-46b8-b6b3-334e55ed16ad",
   "metadata": {
    "tags": []
   },
   "outputs": [
    {
     "data": {
      "text/plain": [
       "<Axes: ylabel='count'>"
      ]
     },
     "execution_count": 32,
     "metadata": {},
     "output_type": "execute_result"
    },
    {
     "data": {
      "image/png": "[encoded data removed]",
      "text/plain": [
       "<Figure size 640x480 with 1 Axes>"
      ]
     },
     "metadata": {},
     "output_type": "display_data"
    }
   ],
   "source": [
    "y_resampled2.value_counts().plot.pie(autopct='%.2f')"
   ]
  },
  {
   "cell_type": "code",
   "execution_count": 33,
   "id": "6e40e292-c30f-443b-9b63-914cac6b1b6e",
   "metadata": {
    "tags": []
   },
   "outputs": [],
   "source": [
    "# Reconfig X and y\n",
    "X = X_resampled\n",
    "y = y_resampled"
   ]
  },
  {
   "cell_type": "markdown",
   "id": "6a1c0693-b895-41f6-9027-0bcf8ced9c34",
   "metadata": {},
   "source": [
    "## 6. Model"
   ]
  },
  {
   "cell_type": "code",
   "execution_count": 34,
   "id": "b54b2c1b-9c5f-45a8-a6d3-f8edc9c3f7c9",
   "metadata": {},
   "outputs": [],
   "source": [
    "model = LogisticRegression()"
   ]
  },
  {
   "cell_type": "code",
   "execution_count": 35,
   "id": "d80d0d30-849f-400d-992b-5729b0750bf1",
   "metadata": {},
   "outputs": [
    {
     "data": {
      "text/html": [
       "<style>#sk-container-id-1 {\n",
       "  /* Definition of color scheme common for light and dark mode */\n",
       "  --sklearn-color-text: black;\n",
       "  --sklearn-color-line: gray;\n",
       "  /* Definition of color scheme for unfitted estimators */\n",
       "  --sklearn-color-unfitted-level-0: #fff5e6;\n",
       "  --sklearn-color-unfitted-level-1: #f6e4d2;\n",
       "  --sklearn-color-unfitted-level-2: #ffe0b3;\n",
       "  --sklearn-color-unfitted-level-3: chocolate;\n",
       "  /* Definition of color scheme for fitted estimators */\n",
       "  --sklearn-color-fitted-level-0: #f0f8ff;\n",
       "  --sklearn-color-fitted-level-1: #d4ebff;\n",
       "  --sklearn-color-fitted-level-2: #b3dbfd;\n",
       "  --sklearn-color-fitted-level-3: cornflowerblue;\n",
       "\n",
       "  /* Specific color for light theme */\n",
       "  --sklearn-color-text-on-default-background: var(--sg-text-color, var(--theme-code-foreground, var(--jp-content-font-color1, black)));\n",
       "  --sklearn-color-background: var(--sg-background-color, var(--theme-background, var(--jp-layout-color0, white)));\n",
       "  --sklearn-color-border-box: var(--sg-text-color, var(--theme-code-foreground, var(--jp-content-font-color1, black)));\n",
       "  --sklearn-color-icon: #696969;\n",
       "\n",
       "  @media (prefers-color-scheme: dark) {\n",
       "    /* Redefinition of color scheme for dark theme */\n",
       "    --sklearn-color-text-on-default-background: var(--sg-text-color, var(--theme-code-foreground, var(--jp-content-font-color1, white)));\n",
       "    --sklearn-color-background: var(--sg-background-color, var(--theme-background, var(--jp-layout-color0, #111)));\n",
       "    --sklearn-color-border-box: var(--sg-text-color, var(--theme-code-foreground, var(--jp-content-font-color1, white)));\n",
       "    --sklearn-color-icon: #878787;\n",
       "  }\n",
       "}\n",
       "\n",
       "#sk-container-id-1 {\n",
       "  color: var(--sklearn-color-text);\n",
       "}\n",
       "\n",
       "#sk-container-id-1 pre {\n",
       "  padding: 0;\n",
       "}\n",
       "\n",
       "#sk-container-id-1 input.sk-hidden--visually {\n",
       "  border: 0;\n",
       "  clip: rect(1px 1px 1px 1px);\n",
       "  clip: rect(1px, 1px, 1px, 1px);\n",
       "  height: 1px;\n",
       "  margin: -1px;\n",
       "  overflow: hidden;\n",
       "  padding: 0;\n",
       "  position: absolute;\n",
       "  width: 1px;\n",
       "}\n",
       "\n",
       "#sk-container-id-1 div.sk-dashed-wrapped {\n",
       "  border: 1px dashed var(--sklearn-color-line);\n",
       "  margin: 0 0.4em 0.5em 0.4em;\n",
       "  box-sizing: border-box;\n",
       "  padding-bottom: 0.4em;\n",
       "  background-color: var(--sklearn-color-background);\n",
       "}\n",
       "\n",
       "#sk-container-id-1 div.sk-container {\n",
       "  /* jupyter's `normalize.less` sets `[hidden] { display: none; }`\n",
       "     but bootstrap.min.css set `[hidden] { display: none !important; }`\n",
       "     so we also need the `!important` here to be able to override the\n",
       "     default hidden behavior on the sphinx rendered scikit-learn.org.\n",
       "     See: https://github.com/scikit-learn/scikit-learn/issues/21755 */\n",
       "  display: inline-block !important;\n",
       "  position: relative;\n",
       "}\n",
       "\n",
       "#sk-container-id-1 div.sk-text-repr-fallback {\n",
       "  display: none;\n",
       "}\n",
       "\n",
       "div.sk-parallel-item,\n",
       "div.sk-serial,\n",
       "div.sk-item {\n",
       "  /* draw centered vertical line to link estimators */\n",
       "  background-image: linear-gradient(var(--sklearn-color-text-on-default-background), var(--sklearn-color-text-on-default-background));\n",
       "  background-size: 2px 100%;\n",
       "  background-repeat: no-repeat;\n",
       "  background-position: center center;\n",
       "}\n",
       "\n",
       "/* Parallel-specific style estimator block */\n",
       "\n",
       "#sk-container-id-1 div.sk-parallel-item::after {\n",
       "  content: \"\";\n",
       "  width: 100%;\n",
       "  border-bottom: 2px solid var(--sklearn-color-text-on-default-background);\n",
       "  flex-grow: 1;\n",
       "}\n",
       "\n",
       "#sk-container-id-1 div.sk-parallel {\n",
       "  display: flex;\n",
       "  align-items: stretch;\n",
       "  justify-content: center;\n",
       "  background-color: var(--sklearn-color-background);\n",
       "  position: relative;\n",
       "}\n",
       "\n",
       "#sk-container-id-1 div.sk-parallel-item {\n",
       "  display: flex;\n",
       "  flex-direction: column;\n",
       "}\n",
       "\n",
       "#sk-container-id-1 div.sk-parallel-item:first-child::after {\n",
       "  align-self: flex-end;\n",
       "  width: 50%;\n",
       "}\n",
       "\n",
       "#sk-container-id-1 div.sk-parallel-item:last-child::after {\n",
       "  align-self: flex-start;\n",
       "  width: 50%;\n",
       "}\n",
       "\n",
       "#sk-container-id-1 div.sk-parallel-item:only-child::after {\n",
       "  width: 0;\n",
       "}\n",
       "\n",
       "/* Serial-specific style estimator block */\n",
       "\n",
       "#sk-container-id-1 div.sk-serial {\n",
       "  display: flex;\n",
       "  flex-direction: column;\n",
       "  align-items: center;\n",
       "  background-color: var(--sklearn-color-background);\n",
       "  padding-right: 1em;\n",
       "  padding-left: 1em;\n",
       "}\n",
       "\n",
       "\n",
       "/* Toggleable style: style used for estimator/Pipeline/ColumnTransformer box that is\n",
       "clickable and can be expanded/collapsed.\n",
       "- Pipeline and ColumnTransformer use this feature and define the default style\n",
       "- Estimators will overwrite some part of the style using the `sk-estimator` class\n",
       "*/\n",
       "\n",
       "/* Pipeline and ColumnTransformer style (default) */\n",
       "\n",
       "#sk-container-id-1 div.sk-toggleable {\n",
       "  /* Default theme specific background. It is overwritten whether we have a\n",
       "  specific estimator or a Pipeline/ColumnTransformer */\n",
       "  background-color: var(--sklearn-color-background);\n",
       "}\n",
       "\n",
       "/* Toggleable label */\n",
       "#sk-container-id-1 label.sk-toggleable__label {\n",
       "  cursor: pointer;\n",
       "  display: block;\n",
       "  width: 100%;\n",
       "  margin-bottom: 0;\n",
       "  padding: 0.5em;\n",
       "  box-sizing: border-box;\n",
       "  text-align: center;\n",
       "}\n",
       "\n",
       "#sk-container-id-1 label.sk-toggleable__label-arrow:before {\n",
       "  /* Arrow on the left of the label */\n",
       "  content: \"▸\";\n",
       "  float: left;\n",
       "  margin-right: 0.25em;\n",
       "  color: var(--sklearn-color-icon);\n",
       "}\n",
       "\n",
       "#sk-container-id-1 label.sk-toggleable__label-arrow:hover:before {\n",
       "  color: var(--sklearn-color-text);\n",
       "}\n",
       "\n",
       "/* Toggleable content - dropdown */\n",
       "\n",
       "#sk-container-id-1 div.sk-toggleable__content {\n",
       "  max-height: 0;\n",
       "  max-width: 0;\n",
       "  overflow: hidden;\n",
       "  text-align: left;\n",
       "  /* unfitted */\n",
       "  background-color: var(--sklearn-color-unfitted-level-0);\n",
       "}\n",
       "\n",
       "#sk-container-id-1 div.sk-toggleable__content.fitted {\n",
       "  /* fitted */\n",
       "  background-color: var(--sklearn-color-fitted-level-0);\n",
       "}\n",
       "\n",
       "#sk-container-id-1 div.sk-toggleable__content pre {\n",
       "  margin: 0.2em;\n",
       "  border-radius: 0.25em;\n",
       "  color: var(--sklearn-color-text);\n",
       "  /* unfitted */\n",
       "  background-color: var(--sklearn-color-unfitted-level-0);\n",
       "}\n",
       "\n",
       "#sk-container-id-1 div.sk-toggleable__content.fitted pre {\n",
       "  /* unfitted */\n",
       "  background-color: var(--sklearn-color-fitted-level-0);\n",
       "}\n",
       "\n",
       "#sk-container-id-1 input.sk-toggleable__control:checked~div.sk-toggleable__content {\n",
       "  /* Expand drop-down */\n",
       "  max-height: 200px;\n",
       "  max-width: 100%;\n",
       "  overflow: auto;\n",
       "}\n",
       "\n",
       "#sk-container-id-1 input.sk-toggleable__control:checked~label.sk-toggleable__label-arrow:before {\n",
       "  content: \"▾\";\n",
       "}\n",
       "\n",
       "/* Pipeline/ColumnTransformer-specific style */\n",
       "\n",
       "#sk-container-id-1 div.sk-label input.sk-toggleable__control:checked~label.sk-toggleable__label {\n",
       "  color: var(--sklearn-color-text);\n",
       "  background-color: var(--sklearn-color-unfitted-level-2);\n",
       "}\n",
       "\n",
       "#sk-container-id-1 div.sk-label.fitted input.sk-toggleable__control:checked~label.sk-toggleable__label {\n",
       "  background-color: var(--sklearn-color-fitted-level-2);\n",
       "}\n",
       "\n",
       "/* Estimator-specific style */\n",
       "\n",
       "/* Colorize estimator box */\n",
       "#sk-container-id-1 div.sk-estimator input.sk-toggleable__control:checked~label.sk-toggleable__label {\n",
       "  /* unfitted */\n",
       "  background-color: var(--sklearn-color-unfitted-level-2);\n",
       "}\n",
       "\n",
       "#sk-container-id-1 div.sk-estimator.fitted input.sk-toggleable__control:checked~label.sk-toggleable__label {\n",
       "  /* fitted */\n",
       "  background-color: var(--sklearn-color-fitted-level-2);\n",
       "}\n",
       "\n",
       "#sk-container-id-1 div.sk-label label.sk-toggleable__label,\n",
       "#sk-container-id-1 div.sk-label label {\n",
       "  /* The background is the default theme color */\n",
       "  color: var(--sklearn-color-text-on-default-background);\n",
       "}\n",
       "\n",
       "/* On hover, darken the color of the background */\n",
       "#sk-container-id-1 div.sk-label:hover label.sk-toggleable__label {\n",
       "  color: var(--sklearn-color-text);\n",
       "  background-color: var(--sklearn-color-unfitted-level-2);\n",
       "}\n",
       "\n",
       "/* Label box, darken color on hover, fitted */\n",
       "#sk-container-id-1 div.sk-label.fitted:hover label.sk-toggleable__label.fitted {\n",
       "  color: var(--sklearn-color-text);\n",
       "  background-color: var(--sklearn-color-fitted-level-2);\n",
       "}\n",
       "\n",
       "/* Estimator label */\n",
       "\n",
       "#sk-container-id-1 div.sk-label label {\n",
       "  font-family: monospace;\n",
       "  font-weight: bold;\n",
       "  display: inline-block;\n",
       "  line-height: 1.2em;\n",
       "}\n",
       "\n",
       "#sk-container-id-1 div.sk-label-container {\n",
       "  text-align: center;\n",
       "}\n",
       "\n",
       "/* Estimator-specific */\n",
       "#sk-container-id-1 div.sk-estimator {\n",
       "  font-family: monospace;\n",
       "  border: 1px dotted var(--sklearn-color-border-box);\n",
       "  border-radius: 0.25em;\n",
       "  box-sizing: border-box;\n",
       "  margin-bottom: 0.5em;\n",
       "  /* unfitted */\n",
       "  background-color: var(--sklearn-color-unfitted-level-0);\n",
       "}\n",
       "\n",
       "#sk-container-id-1 div.sk-estimator.fitted {\n",
       "  /* fitted */\n",
       "  background-color: var(--sklearn-color-fitted-level-0);\n",
       "}\n",
       "\n",
       "/* on hover */\n",
       "#sk-container-id-1 div.sk-estimator:hover {\n",
       "  /* unfitted */\n",
       "  background-color: var(--sklearn-color-unfitted-level-2);\n",
       "}\n",
       "\n",
       "#sk-container-id-1 div.sk-estimator.fitted:hover {\n",
       "  /* fitted */\n",
       "  background-color: var(--sklearn-color-fitted-level-2);\n",
       "}\n",
       "\n",
       "/* Specification for estimator info (e.g. \"i\" and \"?\") */\n",
       "\n",
       "/* Common style for \"i\" and \"?\" */\n",
       "\n",
       ".sk-estimator-doc-link,\n",
       "a:link.sk-estimator-doc-link,\n",
       "a:visited.sk-estimator-doc-link {\n",
       "  float: right;\n",
       "  font-size: smaller;\n",
       "  line-height: 1em;\n",
       "  font-family: monospace;\n",
       "  background-color: var(--sklearn-color-background);\n",
       "  border-radius: 1em;\n",
       "  height: 1em;\n",
       "  width: 1em;\n",
       "  text-decoration: none !important;\n",
       "  margin-left: 1ex;\n",
       "  /* unfitted */\n",
       "  border: var(--sklearn-color-unfitted-level-1) 1pt solid;\n",
       "  color: var(--sklearn-color-unfitted-level-1);\n",
       "}\n",
       "\n",
       ".sk-estimator-doc-link.fitted,\n",
       "a:link.sk-estimator-doc-link.fitted,\n",
       "a:visited.sk-estimator-doc-link.fitted {\n",
       "  /* fitted */\n",
       "  border: var(--sklearn-color-fitted-level-1) 1pt solid;\n",
       "  color: var(--sklearn-color-fitted-level-1);\n",
       "}\n",
       "\n",
       "/* On hover */\n",
       "div.sk-estimator:hover .sk-estimator-doc-link:hover,\n",
       ".sk-estimator-doc-link:hover,\n",
       "div.sk-label-container:hover .sk-estimator-doc-link:hover,\n",
       ".sk-estimator-doc-link:hover {\n",
       "  /* unfitted */\n",
       "  background-color: var(--sklearn-color-unfitted-level-3);\n",
       "  color: var(--sklearn-color-background);\n",
       "  text-decoration: none;\n",
       "}\n",
       "\n",
       "div.sk-estimator.fitted:hover .sk-estimator-doc-link.fitted:hover,\n",
       ".sk-estimator-doc-link.fitted:hover,\n",
       "div.sk-label-container:hover .sk-estimator-doc-link.fitted:hover,\n",
       ".sk-estimator-doc-link.fitted:hover {\n",
       "  /* fitted */\n",
       "  background-color: var(--sklearn-color-fitted-level-3);\n",
       "  color: var(--sklearn-color-background);\n",
       "  text-decoration: none;\n",
       "}\n",
       "\n",
       "/* Span, style for the box shown on hovering the info icon */\n",
       ".sk-estimator-doc-link span {\n",
       "  display: none;\n",
       "  z-index: 9999;\n",
       "  position: relative;\n",
       "  font-weight: normal;\n",
       "  right: .2ex;\n",
       "  padding: .5ex;\n",
       "  margin: .5ex;\n",
       "  width: min-content;\n",
       "  min-width: 20ex;\n",
       "  max-width: 50ex;\n",
       "  color: var(--sklearn-color-text);\n",
       "  box-shadow: 2pt 2pt 4pt #999;\n",
       "  /* unfitted */\n",
       "  background: var(--sklearn-color-unfitted-level-0);\n",
       "  border: .5pt solid var(--sklearn-color-unfitted-level-3);\n",
       "}\n",
       "\n",
       ".sk-estimator-doc-link.fitted span {\n",
       "  /* fitted */\n",
       "  background: var(--sklearn-color-fitted-level-0);\n",
       "  border: var(--sklearn-color-fitted-level-3);\n",
       "}\n",
       "\n",
       ".sk-estimator-doc-link:hover span {\n",
       "  display: block;\n",
       "}\n",
       "\n",
       "/* \"?\"-specific style due to the `<a>` HTML tag */\n",
       "\n",
       "#sk-container-id-1 a.estimator_doc_link {\n",
       "  float: right;\n",
       "  font-size: 1rem;\n",
       "  line-height: 1em;\n",
       "  font-family: monospace;\n",
       "  background-color: var(--sklearn-color-background);\n",
       "  border-radius: 1rem;\n",
       "  height: 1rem;\n",
       "  width: 1rem;\n",
       "  text-decoration: none;\n",
       "  /* unfitted */\n",
       "  color: var(--sklearn-color-unfitted-level-1);\n",
       "  border: var(--sklearn-color-unfitted-level-1) 1pt solid;\n",
       "}\n",
       "\n",
       "#sk-container-id-1 a.estimator_doc_link.fitted {\n",
       "  /* fitted */\n",
       "  border: var(--sklearn-color-fitted-level-1) 1pt solid;\n",
       "  color: var(--sklearn-color-fitted-level-1);\n",
       "}\n",
       "\n",
       "/* On hover */\n",
       "#sk-container-id-1 a.estimator_doc_link:hover {\n",
       "  /* unfitted */\n",
       "  background-color: var(--sklearn-color-unfitted-level-3);\n",
       "  color: var(--sklearn-color-background);\n",
       "  text-decoration: none;\n",
       "}\n",
       "\n",
       "#sk-container-id-1 a.estimator_doc_link.fitted:hover {\n",
       "  /* fitted */\n",
       "  background-color: var(--sklearn-color-fitted-level-3);\n",
       "}\n",
       "</style><div id=\"sk-container-id-1\" class=\"sk-top-container\"><div class=\"sk-text-repr-fallback\"><pre>LogisticRegression()</pre><b>In a Jupyter environment, please rerun this cell to show the HTML representation or trust the notebook. <br />On GitHub, the HTML representation is unable to render, please try loading this page with nbviewer.org.</b></div><div class=\"sk-container\" hidden><div class=\"sk-item\"><div class=\"sk-estimator fitted sk-toggleable\"><input class=\"sk-toggleable__control sk-hidden--visually\" id=\"sk-estimator-id-1\" type=\"checkbox\" checked><label for=\"sk-estimator-id-1\" class=\"sk-toggleable__label fitted sk-toggleable__label-arrow fitted\">&nbsp;&nbsp;LogisticRegression<a class=\"sk-estimator-doc-link fitted\" rel=\"noreferrer\" target=\"_blank\" href=\"https://scikit-learn.org/1.4/modules/generated/sklearn.linear_model.LogisticRegression.html\">?<span>Documentation for LogisticRegression</span></a><span class=\"sk-estimator-doc-link fitted\">i<span>Fitted</span></span></label><div class=\"sk-toggleable__content fitted\"><pre>LogisticRegression()</pre></div> </div></div></div></div>"
      ],
      "text/plain": [
       "LogisticRegression()"
      ]
     },
     "execution_count": 35,
     "metadata": {},
     "output_type": "execute_result"
    }
   ],
   "source": [
    "model.fit(X, y)"
   ]
  },
  {
   "cell_type": "code",
   "execution_count": 36,
   "id": "6e258831-70fc-4b0f-958a-99d4ef9ad2bf",
   "metadata": {
    "tags": []
   },
   "outputs": [
    {
     "data": {
      "text/plain": [
       "3878"
      ]
     },
     "execution_count": 36,
     "metadata": {},
     "output_type": "execute_result"
    }
   ],
   "source": [
    "y.sum()"
   ]
  },
  {
   "cell_type": "code",
   "execution_count": 37,
   "id": "bf9ab618-60d0-4e5e-8dbf-c519afb2bb29",
   "metadata": {},
   "outputs": [
    {
     "data": {
      "text/plain": [
       "6679"
      ]
     },
     "execution_count": 37,
     "metadata": {},
     "output_type": "execute_result"
    }
   ],
   "source": [
    "y_pred = model.predict(X)\n",
    "y_pred.sum()"
   ]
  },
  {
   "cell_type": "code",
   "execution_count": 38,
   "id": "d1e80aaa-05a1-4b25-b507-c16362ceed5b",
   "metadata": {},
   "outputs": [
    {
     "data": {
      "text/plain": [
       "0.4715059308922125"
      ]
     },
     "execution_count": 38,
     "metadata": {},
     "output_type": "execute_result"
    }
   ],
   "source": [
    "accuracy = accuracy_score(y_pred, y)\n",
    "accuracy"
   ]
  },
  {
   "cell_type": "code",
   "execution_count": 39,
   "id": "ce40d66f-7bac-4679-84ed-172e45a4a49a",
   "metadata": {},
   "outputs": [
    {
     "data": {
      "text/plain": [
       "array([[ 428,  649],\n",
       "       [3450, 3229]], dtype=int64)"
      ]
     },
     "execution_count": 39,
     "metadata": {},
     "output_type": "execute_result"
    }
   ],
   "source": [
    "matrix = confusion_matrix(y_pred, y)\n",
    "matrix"
   ]
  },
  {
   "cell_type": "code",
   "execution_count": 40,
   "id": "69a9b222-be2c-4751-b192-5538170d7503",
   "metadata": {
    "tags": []
   },
   "outputs": [
    {
     "name": "stdout",
     "output_type": "stream",
     "text": [
      "Actual Failure Predicted Failure: 428\n",
      "Actual Failure Predicted Success: 649\n",
      "Actual Success Predicted Failure: 3450\n",
      "Actual Success Predicted Success: 3229\n",
      "0.832645693656524\n",
      "0.4834556071268154\n",
      "0.6117268163303969\n"
     ]
    }
   ],
   "source": [
    "true_negative, false_positive, false_negative, true_positive, precision, recall, f1 = decipher_confusion_matrix(matrix)\n",
    "print('Actual Failure Predicted Failure:', true_negative)\n",
    "print('Actual Failure Predicted Success:', false_positive)\n",
    "print('Actual Success Predicted Failure:', false_negative)\n",
    "print('Actual Success Predicted Success:', true_positive)\n",
    "print(precision)\n",
    "print(recall)\n",
    "print(f1)"
   ]
  },
  {
   "cell_type": "markdown",
   "id": "b9137523-6e49-4bc2-bdd3-83919b52217e",
   "metadata": {},
   "source": [
    "## 7. Record"
   ]
  },
  {
   "cell_type": "code",
   "execution_count": 41,
   "id": "3c72c8ae-c9f7-4381-9859-82d9a7cad04a",
   "metadata": {},
   "outputs": [],
   "source": [
    "exp_num = 15\n",
    "note = 'Oversampled: Rocket|Status Rocket'\n",
    "observe = 'Similar performance to mean'\n",
    "action = 'Standby...'"
   ]
  },
  {
   "cell_type": "code",
   "execution_count": 42,
   "id": "9c0b78c7-6148-4fb3-bf74-508e59245f24",
   "metadata": {
    "tags": []
   },
   "outputs": [],
   "source": [
    "csv_file = 'metric_logreg.csv'\n",
    "\n",
    "# Create a dictionary with the variables\n",
    "row = {\n",
    "    'Timestamp': datetime.now().strftime('%Y-%m-%d %H:%M:%S'),\n",
    "    'Experiment': exp_num,\n",
    "    'Accuracy': accuracy,\n",
    "    'Precision': precision,\n",
    "    'Recall': recall,\n",
    "    'F1-score': f1,\n",
    "    'True Negative': true_negative,\n",
    "    'False Positive': false_positive,\n",
    "    'False Negative': false_negative,\n",
    "    'True Positive': true_positive,\n",
    "    'Impute Method': imp_strat,\n",
    "    'Note': note,\n",
    "    'Observation': observe,\n",
    "    'Action': action\n",
    "}"
   ]
  },
  {
   "cell_type": "raw",
   "id": "c58fc78f-0f82-4a7a-9890-ffb0f6981079",
   "metadata": {
    "tags": []
   },
   "source": [
    "# Write the row to the CSV file\n",
    "with open(csv_file, 'a', newline='') as file:\n",
    "    writer = csv.DictWriter(file, fieldnames=row.keys())\n",
    "    # Check if the file is empty, if yes, write the header row\n",
    "    if file.tell() == 0:\n",
    "        writer.writeheader()\n",
    "    writer.writerow(row)"
   ]
  },
  {
   "cell_type": "raw",
   "id": "c080370e-809d-4324-aeba-13262d56b2ec",
   "metadata": {
    "tags": []
   },
   "source": [
    "# Read the existing rows from the CSV file, excluding line #\n",
    "rows_to_keep = []\n",
    "with open(csv_file, 'r', newline='') as file:\n",
    "    reader = csv.DictReader(file)\n",
    "    line_number = 1\n",
    "    for row in reader:\n",
    "        if line_number != #:\n",
    "            rows_to_keep.append(row)\n",
    "        line_number += 1"
   ]
  },
  {
   "cell_type": "raw",
   "id": "a49a24cb-d8bd-467c-89e5-0a37be200ca7",
   "metadata": {
    "tags": []
   },
   "source": [
    "# Write the rows to a new CSV file\n",
    "with open('temp_file.csv', 'w', newline='') as file:\n",
    "    writer = csv.DictWriter(file, fieldnames=rows_to_keep[0].keys())\n",
    "    writer.writeheader()\n",
    "    writer.writerows(rows_to_keep)"
   ]
  },
  {
   "cell_type": "raw",
   "id": "d67b8c9f-6bc3-46d1-bfe3-2dd0ec9efe44",
   "metadata": {
    "tags": []
   },
   "source": [
    "# Replace the original file with the temporary file\n",
    "os.replace('temp_file.csv', csv_file)"
   ]
  }
 ],
 "metadata": {
  "kernelspec": {
   "display_name": "Python 3 (ipykernel)",
   "language": "python",
   "name": "python3"
  },
  "language_info": {
   "codemirror_mode": {
    "name": "ipython",
    "version": 3
   },
   "file_extension": ".py",
   "mimetype": "text/x-python",
   "name": "python",
   "nbconvert_exporter": "python",
   "pygments_lexer": "ipython3",
   "version": "3.11.5"
  }
 },
 "nbformat": 4,
 "nbformat_minor": 5
}
